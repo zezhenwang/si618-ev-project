{
    "cells": [
        {
            "id": "hi4d1hjlr9jk7pt6qvd85p",
            "cell_type": "markdown",
            "source": [
                "# SI 618 WN Project Part I\n",
                "\n",
                "Version 2025.02.06.2.CT\n",
                "\n",
                "The instructions for this component of the project are available as a \n",
                "[Google Doc](https://docs.google.com/document/d/1N2TlYnQuLO3ihIMcr9yKreiSVmqlrOZh7sq6zVcqEnk/edit?tab=t.0#heading=h.hi1g9fls4kkt).\n",
                "You will need to add multiple Code and Markdown cells below.  I have replicated the\n",
                "section headings as markdown blocks below.  You will need to add more code and \n",
                "markdown blocks below.\n",
                "\n",
                "Remember to save your work often!\n",
                ""
            ],
            "metadata": {
                "vocVersion": "1.1",
                "cellIdentifier": "hi4d1hjlr9jk7pt6qvd85p"
            },
            "execution_count": 0,
            "outputs": []
        },
        {
            "id": "09jdn6yqcyj44k5xlbslwbc",
            "cell_type": "markdown",
            "source": [
                "## Project Title\n",
                "> Provide a descriptive working title for your project.\n",
                ""
            ],
            "metadata": {
                "vocVersion": "1.1",
                "cellIdentifier": "09jdn6yqcyj44k5xlbslwbc"
            },
            "execution_count": 0,
            "outputs": []
        },
        {
            "id": "uq54y1c7m4gptglj9tloj",
            "cell_type": "code",
            "source": [],
            "metadata": {
                "vocVersion": "1.1",
                "cellIdentifier": "uq54y1c7m4gptglj9tloj"
            },
            "execution_count": 0,
            "outputs": []
        },
        {
            "id": "41opwdql8l4om1srzd4du",
            "cell_type": "markdown",
            "source": [],
            "metadata": {
                "vocVersion": "1.1",
                "cellIdentifier": "41opwdql8l4om1srzd4du"
            },
            "execution_count": 0,
            "outputs": []
        },
        {
            "id": "8ru9u3bbf8hcrd5vrpz2q9",
            "cell_type": "markdown",
            "source": [
                "## Team Members\n",
                "> List each team member and include their uniqname\n",
                "> Xiao Dong dongxiao"
            ],
            "metadata": {
                "vocVersion": "1.1",
                "cellIdentifier": "8ru9u3bbf8hcrd5vrpz2q9"
            },
            "execution_count": 0,
            "outputs": []
        },
        {
            "id": "bkdnx71othh55onfeowhs",
            "cell_type": "code",
            "source": [],
            "metadata": {
                "vocVersion": "1.1",
                "cellIdentifier": "bkdnx71othh55onfeowhs"
            },
            "execution_count": 0,
            "outputs": []
        },
        {
            "id": "kbicmcwvtrb2zl0g723a4t",
            "cell_type": "markdown",
            "source": [],
            "metadata": {
                "vocVersion": "1.1",
                "cellIdentifier": "kbicmcwvtrb2zl0g723a4t"
            },
            "execution_count": 0,
            "outputs": []
        },
        {
            "id": "vxa59vv9olq7etn7ln8edd",
            "cell_type": "markdown",
            "source": [
                "## Overview\n",
                "> Give a high level description of your project\n",
                ""
            ],
            "metadata": {
                "vocVersion": "1.1",
                "cellIdentifier": "vxa59vv9olq7etn7ln8edd"
            },
            "execution_count": 0,
            "outputs": []
        },
        {
            "id": "k9h2pzi72xhks84tyyi4dq",
            "cell_type": "code",
            "source": [],
            "metadata": {
                "vocVersion": "1.1",
                "cellIdentifier": "k9h2pzi72xhks84tyyi4dq"
            },
            "execution_count": 0,
            "outputs": []
        },
        {
            "id": "he561ili48wbrpiy4yo5c8",
            "cell_type": "markdown",
            "source": [],
            "metadata": {
                "vocVersion": "1.1",
                "cellIdentifier": "he561ili48wbrpiy4yo5c8"
            },
            "execution_count": 0,
            "outputs": []
        },
        {
            "id": "dhfmokqj7a9ydujetuctg",
            "cell_type": "markdown",
            "source": [
                "## Motivation \n",
                "> Explain why you chose this particular topic for your project.\tInclude the three \"real-world\" questions that you generated about the data, and be sure to explain what you hope to learn by answering them.\n",
                ""
            ],
            "metadata": {
                "vocVersion": "1.1",
                "cellIdentifier": "dhfmokqj7a9ydujetuctg"
            },
            "execution_count": 0,
            "outputs": []
        },
        {
            "id": "cb723a8yx87cfj5vwp6opc",
            "cell_type": "code",
            "source": [],
            "metadata": {
                "vocVersion": "1.1",
                "cellIdentifier": "cb723a8yx87cfj5vwp6opc"
            },
            "execution_count": 0,
            "outputs": []
        },
        {
            "id": "su48yimk8xh7a549k21c",
            "cell_type": "markdown",
            "source": [],
            "metadata": {
                "vocVersion": "1.1",
                "cellIdentifier": "su48yimk8xh7a549k21c"
            },
            "execution_count": 0,
            "outputs": []
        },
        {
            "id": "t1nuoxpzwhklzc8ihibxpm",
            "cell_type": "markdown",
            "source": [
                "## Data Sources\n",
                "> List the two (or more) sources of data that you'll be using.  Provide URLs where appropriate.\tExplain how the two (or more) datasets complement each other\n",
                "\t\n",
                ""
            ],
            "metadata": {
                "vocVersion": "1.1",
                "cellIdentifier": "t1nuoxpzwhklzc8ihibxpm"
            },
            "execution_count": 0,
            "outputs": []
        },
        {
            "id": "dqhygo8mxwft9mfaibhrd",
            "cell_type": "code",
            "source": [],
            "metadata": {
                "vocVersion": "1.1",
                "cellIdentifier": "dqhygo8mxwft9mfaibhrd"
            },
            "execution_count": 0,
            "outputs": []
        },
        {
            "id": "4ktvkpbut8obmxcrb1v0f",
            "cell_type": "markdown",
            "source": [],
            "metadata": {
                "vocVersion": "1.1",
                "cellIdentifier": "4ktvkpbut8obmxcrb1v0f"
            },
            "execution_count": 0,
            "outputs": []
        },
        {
            "id": "ubdpfjlf62gqkg0b2ga7rm",
            "cell_type": "markdown",
            "source": [
                "## Data Description\n",
                "> List the variables of interest, the size of the data sets, missing values, etc.\n",
                "\t\n",
                ""
            ],
            "metadata": {
                "vocVersion": "1.1",
                "cellIdentifier": "ubdpfjlf62gqkg0b2ga7rm"
            },
            "execution_count": 0,
            "outputs": []
        },
        {
            "id": "vn1do92y3s7yn8h5b1qm",
            "cell_type": "code",
            "source": [],
            "metadata": {
                "vocVersion": "1.1",
                "cellIdentifier": "vn1do92y3s7yn8h5b1qm"
            },
            "execution_count": 0,
            "outputs": []
        },
        {
            "id": "s71gxdnpcx9ulmj3yv4w68",
            "cell_type": "markdown",
            "source": [],
            "metadata": {
                "vocVersion": "1.1",
                "cellIdentifier": "s71gxdnpcx9ulmj3yv4w68"
            },
            "execution_count": 0,
            "outputs": []
        },
        {
            "id": "fny7n2sx2hysoxci1sw7a",
            "cell_type": "markdown",
            "source": [
                "## Data Manipulation\n",
                "> Mostly code in this section.  This is where you merge your data sets, as well as create new columns (if appropriate)\n",
                "\t\n",
                ""
            ],
            "metadata": {
                "vocVersion": "1.1",
                "cellIdentifier": "fny7n2sx2hysoxci1sw7a"
            },
            "execution_count": 0,
            "outputs": []
        },
        {
            "id": "bz8iie835r6g2zydjdqen",
            "cell_type": "code",
            "source": [],
            "metadata": {
                "vocVersion": "1.1",
                "cellIdentifier": "bz8iie835r6g2zydjdqen"
            },
            "execution_count": 0,
            "outputs": []
        },
        {
            "id": "bjrorwefr4pghw9q1pl7wc",
            "cell_type": "markdown",
            "source": [],
            "metadata": {
                "vocVersion": "1.1",
                "cellIdentifier": "bjrorwefr4pghw9q1pl7wc"
            },
            "execution_count": 0,
            "outputs": []
        },
        {
            "id": "vzwzxyahjznzn1urmtdjg",
            "cell_type": "markdown",
            "source": [
                "## Data Visualization\n",
                "> Be sure to include interpretations of your visualizations -- what patterns or anomalies do you see?\n",
                ""
            ],
            "metadata": {
                "vocVersion": "1.1",
                "cellIdentifier": "vzwzxyahjznzn1urmtdjg"
            },
            "execution_count": 0,
            "outputs": []
        },
        {
            "id": "glo5a4yd0hgbrzavuv25q",
            "cell_type": "code",
            "source": [],
            "metadata": {
                "vocVersion": "1.1",
                "cellIdentifier": "glo5a4yd0hgbrzavuv25q"
            },
            "execution_count": 0,
            "outputs": []
        },
        {
            "id": "m29yc9iuvo7y7lq4s87l8",
            "cell_type": "markdown",
            "source": [],
            "metadata": {
                "vocVersion": "1.1",
                "cellIdentifier": "m29yc9iuvo7y7lq4s87l8"
            },
            "execution_count": 0,
            "outputs": []
        },
        {
            "id": "ltsfgkyqwco6f9gjyfs79o",
            "cell_type": "code",
            "source": [],
            "metadata": {
                "vscode": {
                    "languageId": "plaintext"
                },
                "vocVersion": "1.1",
                "cellIdentifier": "ltsfgkyqwco6f9gjyfs79o"
            },
            "execution_count": 0,
            "outputs": []
        },
        {
            "id": "e0r3dlkx90isq9eplgxowm",
            "cell_type": "markdown",
            "source": [],
            "metadata": {
                "vocVersion": "1.1",
                "cellIdentifier": "e0r3dlkx90isq9eplgxowm"
            },
            "execution_count": 0,
            "outputs": []
        }
    ],
    "metadata": {
        "language_info": {
            "name": "python"
        },
        "kernelspec": {
            "display_name": "Python 3",
            "language": "python",
            "name": "python3"
        },
        "kernel_id": "96969c9c-7eaf-4298-a6ab-eeea2d274beb"
    },
    "nbformat": 4,
    "nbformat_minor": 2
}