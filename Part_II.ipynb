{
 "cells": [
  {
   "metadata": {
    "ExecuteTime": {
     "end_time": "2025-03-21T21:07:50.071591Z",
     "start_time": "2025-03-21T21:07:49.945150Z"
    }
   },
   "cell_type": "code",
   "source": [
    "import pandas as pd\n",
    "import numpy as np\n",
    "\n",
    "sale_data = pd.read_csv(\"EV_POP_2024_BAT.csv\")"
   ],
   "id": "6a8dc5b93e97dd97",
   "outputs": [],
   "execution_count": 1
  },
  {
   "metadata": {},
   "cell_type": "markdown",
   "source": [
    "# Descriptive Analysis\n",
    "Provide a comprehensive summary of your combined dataset using descriptive statistics. This should include means, medians, modes, ranges, variance, and standard deviations for the relevant features of your data.  The descriptive statistics should inform your guiding questions that you developed in Part I of the project, rather than merely providing an overview of your data.  Interpret these results to draw preliminary conclusions about the data."
   ],
   "id": "48efec4c9fbabee5"
  },
  {
   "metadata": {
    "ExecuteTime": {
     "end_time": "2025-03-21T21:11:01.424483Z",
     "start_time": "2025-03-21T21:11:01.422239Z"
    }
   },
   "cell_type": "code",
   "source": "",
   "id": "ee95ffaf25af0c4b",
   "outputs": [],
   "execution_count": null
  },
  {
   "metadata": {},
   "cell_type": "markdown",
   "source": [
    "# Inferential Statistics\n",
    "Conduct appropriate hypothesis tests to investigate if there are significant differences or correlations within your data.  This might involve regression analysis, ANOVA, and/or chi-squared tests.\n",
    "\n",
    "Clearly state your null and alternative hypotheses, choose an appropriate significance level, and discuss your findings. Make sure to justify the choice of your tests.\n"
   ],
   "id": "b0f03cf93fe79476"
  },
  {
   "metadata": {},
   "cell_type": "markdown",
   "source": [
    "# Graphical Analysis\n",
    "Create various types of plots to visualize relationships within your data. Use histograms, bar charts, scatter plots, box plots, and any other suitable graphical representations you've learned.\n",
    "\n",
    "Be sure to use appropriate titles, labels, and legends to make your plots readable and informative.\n",
    "\n",
    "Interpret the graphical representations to uncover patterns, trends, and outliers.\n"
   ],
   "id": "6c94a19413d948c7"
  },
  {
   "metadata": {},
   "cell_type": "markdown",
   "source": [
    "# Comparative Analysis\n",
    "Compare and contrast different subsets of your data. This can include comparisons over time, across different categories, or any other relevant segmentation.  Note that for some projects, the nature of this comparative analysis will be obvious.  For others, you will need to think about how you might subset your data.\n",
    "\n",
    "Discuss any notable similarities or differences you have identified.\n"
   ],
   "id": "b429e46723220234"
  },
  {
   "metadata": {},
   "cell_type": "markdown",
   "source": [
    "# Multivariate Analysis\n",
    "Perform multivariate analysis to understand the relationships among three or more variables in your dataset.\n",
    "\n",
    "Use techniques like cross-tabulation, pivot tables, and multivariate graphs.\n"
   ],
   "id": "fcae2ac2ede11913"
  },
  {
   "metadata": {},
   "cell_type": "markdown",
   "source": [
    "# Synthesis\n",
    "Synthesize the findings from your descriptive and inferential statistics along with your graphical analyses to answer your research questions.\n",
    "\n",
    "Discuss how the combination of the datasets has provided added value in terms of insights or capabilities that would not be possible with the individual datasets in isolation.\n"
   ],
   "id": "2c0626e77f7840f8"
  },
  {
   "metadata": {},
   "cell_type": "markdown",
   "source": [
    "# Documentation\n",
    "Outline the steps you took in your analysis, providing the rationale for the choice of tools and techniques.\n",
    "\n",
    "Clearly document your code, analyses, and interpretations so that they are understandable and reproducible.\n"
   ],
   "id": "5736bc4feca75fe4"
  },
  {
   "metadata": {},
   "cell_type": "markdown",
   "source": [
    "# Reporting & Interpretation\n",
    "Prepare markdown blocks that summarize your methodology, analysis, and findings.  You should intersperse these with your code.\n",
    "\n",
    "Your notebook should be well-structured, with clear sections, headings, and subheadings.\n"
   ],
   "id": "de96208e18227a7e"
  },
  {
   "metadata": {},
   "cell_type": "markdown",
   "source": [
    "# Reflection\n",
    "Include a section (using one or more markdown blocks) at the end of your notebook in which you reflect on the process of analyzing the data. Discuss any challenges you encountered and how you overcame them.\n",
    "\n",
    "Critically evaluate the limitations of your analysis and suggest areas for further research or improvement.\n"
   ],
   "id": "34c4a7d9453dfee"
  }
 ],
 "metadata": {
  "kernelspec": {
   "display_name": "Python 3",
   "language": "python",
   "name": "python3"
  },
  "language_info": {
   "codemirror_mode": {
    "name": "ipython",
    "version": 2
   },
   "file_extension": ".py",
   "mimetype": "text/x-python",
   "name": "python",
   "nbconvert_exporter": "python",
   "pygments_lexer": "ipython2",
   "version": "2.7.6"
  }
 },
 "nbformat": 4,
 "nbformat_minor": 5
}
