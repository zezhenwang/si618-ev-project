{
 "cells": [
  {
   "cell_type": "markdown",
   "id": "07a83ef1",
   "metadata": {},
   "source": [
    "# Project Part III: Machine learning"
   ]
  },
  {
   "cell_type": "markdown",
   "id": "85d8f163",
   "metadata": {},
   "source": [
    "### Team Members\n",
    "\n",
    "Xiao Dong dongxiao@umich.edu (dongxiao)\n",
    "\n",
    "Zezhen Wang zezhenw@umich.edu (zezhenw)\n",
    "\n",
    "Lingxiao Zhong zhonglx@umich.edu (zhonglx)"
   ]
  },
  {
   "cell_type": "markdown",
   "id": "4624dec0",
   "metadata": {},
   "source": [
    "## Preprocessing Data"
   ]
  },
  {
   "cell_type": "code",
   "id": "44775c65",
   "metadata": {
    "ExecuteTime": {
     "end_time": "2025-04-16T02:59:17.986197Z",
     "start_time": "2025-04-16T02:59:17.979401Z"
    }
   },
   "source": [
    "#### VIN Acquired from https://en.wikibooks.org/wiki/Vehicle_Identification_Numbers_(VIN_codes)\n",
    "\n",
    "#Alpha Romeo: Does not exist\n",
    "\n",
    "#Fiat: Does not match\n",
    "\n",
    "# Mercedes-Benz: Too much spec, too little data, ignore\n",
    "\n",
    "def decode_vin(row):\n",
    "    vin = row['VIN (1-10)']\n",
    "    if len(vin) < 8:\n",
    "        return \"None\"  # VIN too short to decode\n",
    "    \n",
    "    # Ford: position 8:\n",
    "    # M/4: 200 SR RWD\n",
    "    # S/5: 284 SR AWD\n",
    "    # 7: 64 ER RWD\n",
    "    # U: 150 ER AWD\n",
    "    # E: 227 GT\n",
    "    if row['Make'] == 'FORD':\n",
    "        position = 8  # Ford uses position 8\n",
    "        char = vin[position - 1]  # Adjust for 0-based indexing\n",
    "        ford_mapping = {\n",
    "            'M': '200',\n",
    "            '4': '200',\n",
    "            'S': '284',\n",
    "            '5': '284',\n",
    "            '7': '64',\n",
    "            'U': '150',\n",
    "            'E': '227'\n",
    "        }\n",
    "        return ford_mapping.get(char, \"None\")\n",
    "    \n",
    "    # HYUNDAI\n",
    "    # IONIQ 5 N: direct match\n",
    "    # IONIQ 5: pos 8\n",
    "    # B: 79 RWD 22- 58kWh\n",
    "    # E: 51 RWD 22- 77kWh\n",
    "    # F: 77 AWD 22- 77kWh\n",
    "    # IONIQ 6: pos 8\n",
    "    # A: 50 RWD 23- 77kWh\n",
    "    # B: 112 RWD 23- 53kWh\n",
    "    # C: 68 AWD 23- 77kWh\n",
    "    # KONA: pos 8\n",
    "    # 6: 19 (Kona 65kWh)\n",
    "    # 7: 137 (Kona 48kWh)\n",
    "    # G: drop\n",
    "    elif row['Make'] == 'HYUNDAI':\n",
    "        position = 8\n",
    "        char = vin[position - 1]\n",
    "        if row['Model'] == 'Ioniq 5':\n",
    "            hyundai_mapping = {\n",
    "                'B': '79',\n",
    "                'E': '51',\n",
    "                'F': '77'\n",
    "            }\n",
    "            return hyundai_mapping.get(char, \"None\")\n",
    "        elif row['Model'] == 'Ioniq 6':\n",
    "            hyundai_mapping = {\n",
    "                'A': '50',\n",
    "                'B': '112',\n",
    "                'C': '68'\n",
    "            }\n",
    "            return hyundai_mapping.get(char, \"None\")\n",
    "        elif row['Model'] == 'Kona Electric':\n",
    "            hyundai_mapping = {\n",
    "                '6': '19',\n",
    "                '7': '137'\n",
    "            }\n",
    "            return hyundai_mapping.get(char, \"None\")\n",
    "        \n",
    "\n",
    "    # GENESIS\n",
    "    # GV60: pos 8\n",
    "    # A: 221 Premium\n",
    "    # C: 323 Sport\n",
    "    # B: 342 Sport Plus\n",
    "    # GV70: pos 8\n",
    "    # B/C: 281\n",
    "    elif row['Make'] == 'GENESIS':\n",
    "        position = 8\n",
    "        char = vin[position - 1]\n",
    "        if row['Model'] == 'GV60':\n",
    "            genesis_mapping = {\n",
    "                'A': '221',\n",
    "                'C': '323',\n",
    "                'B': '342'\n",
    "            }\n",
    "            return genesis_mapping.get(char, \"None\")\n",
    "        elif row['Model'] == 'GV70':\n",
    "            genesis_mapping = {\n",
    "                'B': '281',\n",
    "                'C': '281'\n",
    "            }\n",
    "            return genesis_mapping.get(char, \"None\")\n",
    "        elif row['Model'] == 'GV80':\n",
    "            return '272'\n",
    "        \n",
    "    # KIA\n",
    "    # EV6: pos 8\n",
    "    # A: 41 LR 2WD\n",
    "    # B: 156 SR 2WD\n",
    "    # C: 84 LR AWD\n",
    "    # E: 69 GT\n",
    "    # Niro: pos 8\n",
    "    # 1/G: 18 Niro EV\n",
    "    # EV9: pos 8\n",
    "    # 1: 130 99.8kWh RWD\n",
    "    # 5: 60 99.8kWh AWD\n",
    "    elif row['Make'] == 'KIA':\n",
    "        position = 8\n",
    "        char = vin[position - 1]\n",
    "        if row['Model'] == 'EV6':\n",
    "            kia_mapping = {\n",
    "                'A': '41',\n",
    "                'B': '156',\n",
    "                'C': '84',\n",
    "                'E': '69'\n",
    "            }\n",
    "            return kia_mapping.get(char, \"None\")\n",
    "        elif row['Model'] == 'Niro':\n",
    "            kia_mapping = {\n",
    "                '1': '18',\n",
    "                'G': '18'\n",
    "            }\n",
    "            return kia_mapping.get(char, \"None\")\n",
    "        elif row['Model'] == 'EV9':\n",
    "            kia_mapping = {\n",
    "                '1': '130',\n",
    "                '5': '60'\n",
    "            }\n",
    "            return kia_mapping.get(char, \"None\")\n",
    "        \n",
    "    # NISSAN\n",
    "    # Ariya: pos 4\n",
    "    # A: 181 63kWh\n",
    "    # B: 63 87kWh\n",
    "    # C/D: 253\n",
    "    # Leaf: pos 4\n",
    "    # A: 45 Leaf\n",
    "    # B/C: 144 Leaf e+\n",
    "    elif row['Make'] == 'NISSAN':\n",
    "        position = 4\n",
    "        char = vin[position - 1]\n",
    "        if row['Model'] == 'ARIYA':\n",
    "            nissan_mapping = {\n",
    "                'A': '181',\n",
    "                'B': '63',\n",
    "                'C': '253',\n",
    "                'D': '253'\n",
    "            }\n",
    "            return nissan_mapping.get(char, \"None\")\n",
    "        elif row['Model'] == 'Leaf':\n",
    "            nissan_mapping = {\n",
    "                'A': '45',\n",
    "                'B': '144',\n",
    "                'C': '144'\n",
    "            }\n",
    "            return nissan_mapping.get(char, \"None\")\n",
    "    # Toyota\n",
    "    # bZ4X: pos 5\n",
    "    # A: 36 FWD\n",
    "    # B: 115 AWD\n",
    "    elif row['Make'] == 'TOYOTA':\n",
    "        position = 5\n",
    "        char = vin[position - 1]\n",
    "        if row['Model'] == 'bZ4X':\n",
    "            toyota_mapping = {\n",
    "                'A': '36',\n",
    "                'B': '115'\n",
    "            }\n",
    "            return toyota_mapping.get(char, \"None\")\n",
    "        \n",
    "    # Tesla\n",
    "    # Model Y: pos 8\n",
    "    # D: 5 LR RWD\n",
    "    # E: 3 LR Dual Motor\n",
    "    # F: 9 Performance\n",
    "    # Model 3: pos 8\n",
    "    # A: does not have value in cars_data_cleaned, drop\n",
    "    # B: 4 LR Dual Motor\n",
    "    # T: 20 Performance\n",
    "    # Model S: pos 8\n",
    "    # 5: 17 Dual Motor\n",
    "    # 6: 16 Plaid\n",
    "    # Model X: pos 8\n",
    "    # 5: 91 Dual Motor\n",
    "    # 6: 126 Plaid\n",
    "    elif row['Make'] == 'TESLA':\n",
    "        position = 8\n",
    "        char = vin[position - 1]\n",
    "        if row['Model'] == 'Model Y':\n",
    "            tesla_mapping = {\n",
    "                'D': '5',\n",
    "                'E': '3',\n",
    "                'F': '9'\n",
    "            }\n",
    "            return tesla_mapping.get(char, \"None\")\n",
    "        elif row['Model'] == 'Model 3':\n",
    "            tesla_mapping = {\n",
    "                'A': \"None\",\n",
    "                'B': '4',\n",
    "                'T': '20'\n",
    "            }\n",
    "            return tesla_mapping.get(char, \"None\")\n",
    "        elif row['Model'] == 'Model S':\n",
    "            tesla_mapping = {\n",
    "                '5': '17',\n",
    "                '6': '16'\n",
    "            }\n",
    "            return tesla_mapping.get(char, \"None\")\n",
    "        elif row['Model'] == 'Model X':\n",
    "            tesla_mapping = {\n",
    "                '5': '91',\n",
    "                '6': '126'\n",
    "            }\n",
    "            return tesla_mapping.get(char, \"None\")\n",
    "    else:\n",
    "        return \"None\""
   ],
   "outputs": [],
   "execution_count": 1
  },
  {
   "cell_type": "code",
   "id": "784eaf4c",
   "metadata": {
    "ExecuteTime": {
     "end_time": "2025-04-16T02:59:18.154322Z",
     "start_time": "2025-04-16T02:59:17.991760Z"
    }
   },
   "source": [
    "import pandas as pd\n",
    "\n",
    "car_data = pd.read_csv('cars_data_cleaned.csv')\n",
    "wa_purchase = pd.read_csv('EV_POP_2024_BAT.csv')"
   ],
   "outputs": [],
   "execution_count": 2
  },
  {
   "cell_type": "code",
   "id": "f37bd2d8",
   "metadata": {
    "ExecuteTime": {
     "end_time": "2025-04-16T02:59:18.879309Z",
     "start_time": "2025-04-16T02:59:18.306285Z"
    }
   },
   "source": [
    "# apply the decode_vin to the wa_purchase DataFrame, fill anything else with \"None\"\n",
    "wa_purchase['match_id'] = wa_purchase.apply(decode_vin, axis=1)\n",
    "wa_purchase['match_id'] = wa_purchase['match_id'].fillna(\"None\")\n",
    "# keep only integer match_id, for later merge with Row_ID\n",
    "wa_purchase['match_id'] = wa_purchase['match_id'].astype(str).str.extract(r'(\\d+)')\n",
    "# convert to int\n",
    "wa_purchase['match_id'] = wa_purchase['match_id'].astype('Int64')"
   ],
   "outputs": [],
   "execution_count": 3
  },
  {
   "cell_type": "code",
   "id": "a772228e",
   "metadata": {
    "ExecuteTime": {
     "end_time": "2025-04-16T02:59:18.998683Z",
     "start_time": "2025-04-16T02:59:18.928578Z"
    }
   },
   "source": [
    "car_df = pd.merge(wa_purchase, car_data, how='inner', left_on='match_id', right_on='Row_ID')\n",
    "car_df = car_df.drop(columns=['Row_ID'])\n",
    "car_df"
   ],
   "outputs": [
    {
     "data": {
      "text/plain": [
       "      Clean Alternative Fuel Vehicle Type  VIN (1-10)  DOL Vehicle ID  \\\n",
       "0          Battery Electric Vehicle (BEV)  5YJSA1E6XR       267352214   \n",
       "1          Battery Electric Vehicle (BEV)  5YJ3E1EB3R       274952660   \n",
       "2          Battery Electric Vehicle (BEV)  5YJ3E1EB3R       265716251   \n",
       "3          Battery Electric Vehicle (BEV)  5YJ3E1ET0R       267127430   \n",
       "4          Battery Electric Vehicle (BEV)  7SAYGDEE9R       273783821   \n",
       "...                                   ...         ...             ...   \n",
       "22927      Battery Electric Vehicle (BEV)  KNDC4DLC6R       274967262   \n",
       "22928      Battery Electric Vehicle (BEV)  KNDC3DLC4R       276394856   \n",
       "22929      Battery Electric Vehicle (BEV)  3FMTK3SU7R       278655982   \n",
       "22930      Battery Electric Vehicle (BEV)  1FT6W3L76R       274723592   \n",
       "22931      Battery Electric Vehicle (BEV)  KM8KRDDF4R       274621448   \n",
       "\n",
       "       Model Year     Make         Model_x Primary Use  Electric Range  \\\n",
       "0            2024    TESLA         Model S   Passenger             0.0   \n",
       "1            2024    TESLA         Model 3   Passenger             0.0   \n",
       "2            2024    TESLA         Model 3   Passenger             0.0   \n",
       "3            2024    TESLA         Model 3   Passenger             0.0   \n",
       "4            2024    TESLA         Model Y   Passenger             0.0   \n",
       "...           ...      ...             ...         ...             ...   \n",
       "22927        2024      KIA             EV6   Passenger             0.0   \n",
       "22928        2024      KIA             EV6   Passenger             0.0   \n",
       "22929        2024     FORD  Mustang Mach-E   Passenger             0.0   \n",
       "22930        2024     FORD           F-150       Truck             0.0   \n",
       "22931        2024  HYUNDAI         Ioniq 5   Passenger             0.0   \n",
       "\n",
       "       Odometer Reading Odometer Reading Description  ... Efficiency  \\\n",
       "0                    15               Actual Mileage  ...        170   \n",
       "1                    15               Actual Mileage  ...        150   \n",
       "2                    15               Actual Mileage  ...        150   \n",
       "3                    15               Actual Mileage  ...        165   \n",
       "4                    15               Actual Mileage  ...        172   \n",
       "...                 ...                          ...  ...        ...   \n",
       "22927                14               Actual Mileage  ...        185   \n",
       "22928                15               Actual Mileage  ...        185   \n",
       "22929                34               Actual Mileage  ...        204   \n",
       "22930                32               Actual Mileage  ...        190   \n",
       "22931                25               Actual Mileage  ...        192   \n",
       "\n",
       "       Fastcharge Germany_price_before_incentives  \\\n",
       "0             780                          110970   \n",
       "1             770                           50970   \n",
       "2             770                           50970   \n",
       "3             700                           57970   \n",
       "4             670                           55970   \n",
       "...           ...                             ...   \n",
       "22927        1050                           55980   \n",
       "22928        1050                           55980   \n",
       "22929         390                           65900   \n",
       "22930         420                           58500   \n",
       "22931        1010                           59200   \n",
       "\n",
       "       Netherlands_price_before_incentives UK_price_after_incentives  \\\n",
       "0                                   108990                    100000   \n",
       "1                                    49990                     49990   \n",
       "2                                    49990                     49990   \n",
       "3                                    56990                     59990   \n",
       "4                                    52990                     52990   \n",
       "...                                    ...                       ...   \n",
       "22927                                59995                     51745   \n",
       "22928                                59995                     51745   \n",
       "22929                                66940                     65405   \n",
       "22930                                54400                     59830   \n",
       "22931                                60995                     50445   \n",
       "\n",
       "      Drive_Configuration            Tow_Hitch Towing_capacity_in_kg  \\\n",
       "0         All Wheel Drive      Towbar possible                  1600   \n",
       "1         All Wheel Drive      Towbar possible                  1000   \n",
       "2         All Wheel Drive      Towbar possible                  1000   \n",
       "3         All Wheel Drive  Towbar not possible                     0   \n",
       "4         All Wheel Drive      Towbar possible                  1600   \n",
       "...                   ...                  ...                   ...   \n",
       "22927     All Wheel Drive      Towbar possible                  1600   \n",
       "22928     All Wheel Drive      Towbar possible                  1600   \n",
       "22929     All Wheel Drive      Towbar possible                  1500   \n",
       "22930    Rear Wheel Drive      Towbar possible                  1500   \n",
       "22931     All Wheel Drive      Towbar possible                  1600   \n",
       "\n",
       "      Number_of_seats Estimated_US_Value  \n",
       "0                   5             124600  \n",
       "1                   5              62287  \n",
       "2                   5              62287  \n",
       "3                   5              74747  \n",
       "4                   5              66025  \n",
       "...               ...                ...  \n",
       "22927               5              64474  \n",
       "22928               5              64474  \n",
       "22929               5              81494  \n",
       "22930               5              74548  \n",
       "22931               5              62854  \n",
       "\n",
       "[22932 rows x 52 columns]"
      ],
      "text/html": [
       "<div>\n",
       "<style scoped>\n",
       "    .dataframe tbody tr th:only-of-type {\n",
       "        vertical-align: middle;\n",
       "    }\n",
       "\n",
       "    .dataframe tbody tr th {\n",
       "        vertical-align: top;\n",
       "    }\n",
       "\n",
       "    .dataframe thead th {\n",
       "        text-align: right;\n",
       "    }\n",
       "</style>\n",
       "<table border=\"1\" class=\"dataframe\">\n",
       "  <thead>\n",
       "    <tr style=\"text-align: right;\">\n",
       "      <th></th>\n",
       "      <th>Clean Alternative Fuel Vehicle Type</th>\n",
       "      <th>VIN (1-10)</th>\n",
       "      <th>DOL Vehicle ID</th>\n",
       "      <th>Model Year</th>\n",
       "      <th>Make</th>\n",
       "      <th>Model_x</th>\n",
       "      <th>Primary Use</th>\n",
       "      <th>Electric Range</th>\n",
       "      <th>Odometer Reading</th>\n",
       "      <th>Odometer Reading Description</th>\n",
       "      <th>...</th>\n",
       "      <th>Efficiency</th>\n",
       "      <th>Fastcharge</th>\n",
       "      <th>Germany_price_before_incentives</th>\n",
       "      <th>Netherlands_price_before_incentives</th>\n",
       "      <th>UK_price_after_incentives</th>\n",
       "      <th>Drive_Configuration</th>\n",
       "      <th>Tow_Hitch</th>\n",
       "      <th>Towing_capacity_in_kg</th>\n",
       "      <th>Number_of_seats</th>\n",
       "      <th>Estimated_US_Value</th>\n",
       "    </tr>\n",
       "  </thead>\n",
       "  <tbody>\n",
       "    <tr>\n",
       "      <th>0</th>\n",
       "      <td>Battery Electric Vehicle (BEV)</td>\n",
       "      <td>5YJSA1E6XR</td>\n",
       "      <td>267352214</td>\n",
       "      <td>2024</td>\n",
       "      <td>TESLA</td>\n",
       "      <td>Model S</td>\n",
       "      <td>Passenger</td>\n",
       "      <td>0.0</td>\n",
       "      <td>15</td>\n",
       "      <td>Actual Mileage</td>\n",
       "      <td>...</td>\n",
       "      <td>170</td>\n",
       "      <td>780</td>\n",
       "      <td>110970</td>\n",
       "      <td>108990</td>\n",
       "      <td>100000</td>\n",
       "      <td>All Wheel Drive</td>\n",
       "      <td>Towbar possible</td>\n",
       "      <td>1600</td>\n",
       "      <td>5</td>\n",
       "      <td>124600</td>\n",
       "    </tr>\n",
       "    <tr>\n",
       "      <th>1</th>\n",
       "      <td>Battery Electric Vehicle (BEV)</td>\n",
       "      <td>5YJ3E1EB3R</td>\n",
       "      <td>274952660</td>\n",
       "      <td>2024</td>\n",
       "      <td>TESLA</td>\n",
       "      <td>Model 3</td>\n",
       "      <td>Passenger</td>\n",
       "      <td>0.0</td>\n",
       "      <td>15</td>\n",
       "      <td>Actual Mileage</td>\n",
       "      <td>...</td>\n",
       "      <td>150</td>\n",
       "      <td>770</td>\n",
       "      <td>50970</td>\n",
       "      <td>49990</td>\n",
       "      <td>49990</td>\n",
       "      <td>All Wheel Drive</td>\n",
       "      <td>Towbar possible</td>\n",
       "      <td>1000</td>\n",
       "      <td>5</td>\n",
       "      <td>62287</td>\n",
       "    </tr>\n",
       "    <tr>\n",
       "      <th>2</th>\n",
       "      <td>Battery Electric Vehicle (BEV)</td>\n",
       "      <td>5YJ3E1EB3R</td>\n",
       "      <td>265716251</td>\n",
       "      <td>2024</td>\n",
       "      <td>TESLA</td>\n",
       "      <td>Model 3</td>\n",
       "      <td>Passenger</td>\n",
       "      <td>0.0</td>\n",
       "      <td>15</td>\n",
       "      <td>Actual Mileage</td>\n",
       "      <td>...</td>\n",
       "      <td>150</td>\n",
       "      <td>770</td>\n",
       "      <td>50970</td>\n",
       "      <td>49990</td>\n",
       "      <td>49990</td>\n",
       "      <td>All Wheel Drive</td>\n",
       "      <td>Towbar possible</td>\n",
       "      <td>1000</td>\n",
       "      <td>5</td>\n",
       "      <td>62287</td>\n",
       "    </tr>\n",
       "    <tr>\n",
       "      <th>3</th>\n",
       "      <td>Battery Electric Vehicle (BEV)</td>\n",
       "      <td>5YJ3E1ET0R</td>\n",
       "      <td>267127430</td>\n",
       "      <td>2024</td>\n",
       "      <td>TESLA</td>\n",
       "      <td>Model 3</td>\n",
       "      <td>Passenger</td>\n",
       "      <td>0.0</td>\n",
       "      <td>15</td>\n",
       "      <td>Actual Mileage</td>\n",
       "      <td>...</td>\n",
       "      <td>165</td>\n",
       "      <td>700</td>\n",
       "      <td>57970</td>\n",
       "      <td>56990</td>\n",
       "      <td>59990</td>\n",
       "      <td>All Wheel Drive</td>\n",
       "      <td>Towbar not possible</td>\n",
       "      <td>0</td>\n",
       "      <td>5</td>\n",
       "      <td>74747</td>\n",
       "    </tr>\n",
       "    <tr>\n",
       "      <th>4</th>\n",
       "      <td>Battery Electric Vehicle (BEV)</td>\n",
       "      <td>7SAYGDEE9R</td>\n",
       "      <td>273783821</td>\n",
       "      <td>2024</td>\n",
       "      <td>TESLA</td>\n",
       "      <td>Model Y</td>\n",
       "      <td>Passenger</td>\n",
       "      <td>0.0</td>\n",
       "      <td>15</td>\n",
       "      <td>Actual Mileage</td>\n",
       "      <td>...</td>\n",
       "      <td>172</td>\n",
       "      <td>670</td>\n",
       "      <td>55970</td>\n",
       "      <td>52990</td>\n",
       "      <td>52990</td>\n",
       "      <td>All Wheel Drive</td>\n",
       "      <td>Towbar possible</td>\n",
       "      <td>1600</td>\n",
       "      <td>5</td>\n",
       "      <td>66025</td>\n",
       "    </tr>\n",
       "    <tr>\n",
       "      <th>...</th>\n",
       "      <td>...</td>\n",
       "      <td>...</td>\n",
       "      <td>...</td>\n",
       "      <td>...</td>\n",
       "      <td>...</td>\n",
       "      <td>...</td>\n",
       "      <td>...</td>\n",
       "      <td>...</td>\n",
       "      <td>...</td>\n",
       "      <td>...</td>\n",
       "      <td>...</td>\n",
       "      <td>...</td>\n",
       "      <td>...</td>\n",
       "      <td>...</td>\n",
       "      <td>...</td>\n",
       "      <td>...</td>\n",
       "      <td>...</td>\n",
       "      <td>...</td>\n",
       "      <td>...</td>\n",
       "      <td>...</td>\n",
       "      <td>...</td>\n",
       "    </tr>\n",
       "    <tr>\n",
       "      <th>22927</th>\n",
       "      <td>Battery Electric Vehicle (BEV)</td>\n",
       "      <td>KNDC4DLC6R</td>\n",
       "      <td>274967262</td>\n",
       "      <td>2024</td>\n",
       "      <td>KIA</td>\n",
       "      <td>EV6</td>\n",
       "      <td>Passenger</td>\n",
       "      <td>0.0</td>\n",
       "      <td>14</td>\n",
       "      <td>Actual Mileage</td>\n",
       "      <td>...</td>\n",
       "      <td>185</td>\n",
       "      <td>1050</td>\n",
       "      <td>55980</td>\n",
       "      <td>59995</td>\n",
       "      <td>51745</td>\n",
       "      <td>All Wheel Drive</td>\n",
       "      <td>Towbar possible</td>\n",
       "      <td>1600</td>\n",
       "      <td>5</td>\n",
       "      <td>64474</td>\n",
       "    </tr>\n",
       "    <tr>\n",
       "      <th>22928</th>\n",
       "      <td>Battery Electric Vehicle (BEV)</td>\n",
       "      <td>KNDC3DLC4R</td>\n",
       "      <td>276394856</td>\n",
       "      <td>2024</td>\n",
       "      <td>KIA</td>\n",
       "      <td>EV6</td>\n",
       "      <td>Passenger</td>\n",
       "      <td>0.0</td>\n",
       "      <td>15</td>\n",
       "      <td>Actual Mileage</td>\n",
       "      <td>...</td>\n",
       "      <td>185</td>\n",
       "      <td>1050</td>\n",
       "      <td>55980</td>\n",
       "      <td>59995</td>\n",
       "      <td>51745</td>\n",
       "      <td>All Wheel Drive</td>\n",
       "      <td>Towbar possible</td>\n",
       "      <td>1600</td>\n",
       "      <td>5</td>\n",
       "      <td>64474</td>\n",
       "    </tr>\n",
       "    <tr>\n",
       "      <th>22929</th>\n",
       "      <td>Battery Electric Vehicle (BEV)</td>\n",
       "      <td>3FMTK3SU7R</td>\n",
       "      <td>278655982</td>\n",
       "      <td>2024</td>\n",
       "      <td>FORD</td>\n",
       "      <td>Mustang Mach-E</td>\n",
       "      <td>Passenger</td>\n",
       "      <td>0.0</td>\n",
       "      <td>34</td>\n",
       "      <td>Actual Mileage</td>\n",
       "      <td>...</td>\n",
       "      <td>204</td>\n",
       "      <td>390</td>\n",
       "      <td>65900</td>\n",
       "      <td>66940</td>\n",
       "      <td>65405</td>\n",
       "      <td>All Wheel Drive</td>\n",
       "      <td>Towbar possible</td>\n",
       "      <td>1500</td>\n",
       "      <td>5</td>\n",
       "      <td>81494</td>\n",
       "    </tr>\n",
       "    <tr>\n",
       "      <th>22930</th>\n",
       "      <td>Battery Electric Vehicle (BEV)</td>\n",
       "      <td>1FT6W3L76R</td>\n",
       "      <td>274723592</td>\n",
       "      <td>2024</td>\n",
       "      <td>FORD</td>\n",
       "      <td>F-150</td>\n",
       "      <td>Truck</td>\n",
       "      <td>0.0</td>\n",
       "      <td>32</td>\n",
       "      <td>Actual Mileage</td>\n",
       "      <td>...</td>\n",
       "      <td>190</td>\n",
       "      <td>420</td>\n",
       "      <td>58500</td>\n",
       "      <td>54400</td>\n",
       "      <td>59830</td>\n",
       "      <td>Rear Wheel Drive</td>\n",
       "      <td>Towbar possible</td>\n",
       "      <td>1500</td>\n",
       "      <td>5</td>\n",
       "      <td>74548</td>\n",
       "    </tr>\n",
       "    <tr>\n",
       "      <th>22931</th>\n",
       "      <td>Battery Electric Vehicle (BEV)</td>\n",
       "      <td>KM8KRDDF4R</td>\n",
       "      <td>274621448</td>\n",
       "      <td>2024</td>\n",
       "      <td>HYUNDAI</td>\n",
       "      <td>Ioniq 5</td>\n",
       "      <td>Passenger</td>\n",
       "      <td>0.0</td>\n",
       "      <td>25</td>\n",
       "      <td>Actual Mileage</td>\n",
       "      <td>...</td>\n",
       "      <td>192</td>\n",
       "      <td>1010</td>\n",
       "      <td>59200</td>\n",
       "      <td>60995</td>\n",
       "      <td>50445</td>\n",
       "      <td>All Wheel Drive</td>\n",
       "      <td>Towbar possible</td>\n",
       "      <td>1600</td>\n",
       "      <td>5</td>\n",
       "      <td>62854</td>\n",
       "    </tr>\n",
       "  </tbody>\n",
       "</table>\n",
       "<p>22932 rows × 52 columns</p>\n",
       "</div>"
      ]
     },
     "execution_count": 4,
     "metadata": {},
     "output_type": "execute_result"
    }
   ],
   "execution_count": 4
  },
  {
   "cell_type": "code",
   "id": "55c6c52b",
   "metadata": {
    "ExecuteTime": {
     "end_time": "2025-04-16T02:59:19.079122Z",
     "start_time": "2025-04-16T02:59:19.073317Z"
    }
   },
   "source": [
    "car_df.columns"
   ],
   "outputs": [
    {
     "data": {
      "text/plain": [
       "Index(['Clean Alternative Fuel Vehicle Type', 'VIN (1-10)', 'DOL Vehicle ID',\n",
       "       'Model Year', 'Make', 'Model_x', 'Primary Use', 'Electric Range',\n",
       "       'Odometer Reading', 'Odometer Reading Description',\n",
       "       'New or Used Vehicle', 'Sale Price', 'Sale Date', 'Base MSRP',\n",
       "       'Transaction Type', 'Transaction Date', 'Year', 'County', 'City',\n",
       "       'State', 'Postal Code',\n",
       "       '2019 HB 2042: Clean Alternative Fuel Vehicle (CAFV) Eligibility',\n",
       "       'Meets 2019 HB 2042 Electric Range Requirement',\n",
       "       'Meets 2019 HB 2042 Sale Date Requirement',\n",
       "       'Meets 2019 HB 2042 Sale Price/Value Requirement',\n",
       "       '2019 HB 2042: Battery Range Requirement',\n",
       "       '2019 HB 2042: Purchase Date Requirement',\n",
       "       '2019 HB 2042: Sale Price/Value Requirement',\n",
       "       'Electric Vehicle Fee Paid', 'Transportation Electrification Fee Paid',\n",
       "       'Hybrid Vehicle Electrification Fee Paid', '2020 GEOID',\n",
       "       'Legislative District', 'Electric Utility', 'match_id', 'Brand',\n",
       "       'Model_y', 'Battery', 'km_of_range', '0-100', 'Top_Speed', 'Range',\n",
       "       'Efficiency', 'Fastcharge', 'Germany_price_before_incentives',\n",
       "       'Netherlands_price_before_incentives', 'UK_price_after_incentives',\n",
       "       'Drive_Configuration', 'Tow_Hitch', 'Towing_capacity_in_kg',\n",
       "       'Number_of_seats', 'Estimated_US_Value'],\n",
       "      dtype='object')"
      ]
     },
     "execution_count": 5,
     "metadata": {},
     "output_type": "execute_result"
    }
   ],
   "execution_count": 5
  },
  {
   "cell_type": "code",
   "id": "404097db",
   "metadata": {
    "ExecuteTime": {
     "end_time": "2025-04-16T02:59:19.231846Z",
     "start_time": "2025-04-16T02:59:19.224617Z"
    }
   },
   "source": [
    "car_df['Sale Price']"
   ],
   "outputs": [
    {
     "data": {
      "text/plain": [
       "0        96130\n",
       "1        51130\n",
       "2        59880\n",
       "3        54630\n",
       "4        49630\n",
       "         ...  \n",
       "22927    58445\n",
       "22928    54100\n",
       "22929    61480\n",
       "22930    69185\n",
       "22931    41948\n",
       "Name: Sale Price, Length: 22932, dtype: int64"
      ]
     },
     "execution_count": 6,
     "metadata": {},
     "output_type": "execute_result"
    }
   ],
   "execution_count": 6
  },
  {
   "cell_type": "code",
   "id": "3036ce16",
   "metadata": {
    "ExecuteTime": {
     "end_time": "2025-04-16T02:59:19.447774Z",
     "start_time": "2025-04-16T02:59:19.437851Z"
    }
   },
   "source": [
    "car_df['Estimated_US_Value']"
   ],
   "outputs": [
    {
     "data": {
      "text/plain": [
       "0        124600\n",
       "1         62287\n",
       "2         62287\n",
       "3         74747\n",
       "4         66025\n",
       "          ...  \n",
       "22927     64474\n",
       "22928     64474\n",
       "22929     81494\n",
       "22930     74548\n",
       "22931     62854\n",
       "Name: Estimated_US_Value, Length: 22932, dtype: int64"
      ]
     },
     "execution_count": 7,
     "metadata": {},
     "output_type": "execute_result"
    }
   ],
   "execution_count": 7
  },
  {
   "cell_type": "markdown",
   "id": "ecc5c278",
   "metadata": {},
   "source": [
    "#### Check Null Values"
   ]
  },
  {
   "cell_type": "code",
   "id": "b20899a7",
   "metadata": {
    "ExecuteTime": {
     "end_time": "2025-04-16T02:59:20.056838Z",
     "start_time": "2025-04-16T02:59:20.031658Z"
    }
   },
   "source": [
    "# Check null values\n",
    "car_df.isnull().sum().sort_values(ascending=False)"
   ],
   "outputs": [
    {
     "data": {
      "text/plain": [
       "Legislative District                                               17\n",
       "City                                                                1\n",
       "Clean Alternative Fuel Vehicle Type                                 0\n",
       "2019 HB 2042: Sale Price/Value Requirement                          0\n",
       "Transportation Electrification Fee Paid                             0\n",
       "Hybrid Vehicle Electrification Fee Paid                             0\n",
       "2020 GEOID                                                          0\n",
       "Electric Utility                                                    0\n",
       "match_id                                                            0\n",
       "Brand                                                               0\n",
       "Model_y                                                             0\n",
       "Battery                                                             0\n",
       "km_of_range                                                         0\n",
       "0-100                                                               0\n",
       "Top_Speed                                                           0\n",
       "Range                                                               0\n",
       "Efficiency                                                          0\n",
       "Fastcharge                                                          0\n",
       "Germany_price_before_incentives                                     0\n",
       "Netherlands_price_before_incentives                                 0\n",
       "UK_price_after_incentives                                           0\n",
       "Drive_Configuration                                                 0\n",
       "Tow_Hitch                                                           0\n",
       "Towing_capacity_in_kg                                               0\n",
       "Number_of_seats                                                     0\n",
       "Electric Vehicle Fee Paid                                           0\n",
       "2019 HB 2042: Purchase Date Requirement                             0\n",
       "VIN (1-10)                                                          0\n",
       "Sale Date                                                           0\n",
       "DOL Vehicle ID                                                      0\n",
       "Model Year                                                          0\n",
       "Make                                                                0\n",
       "Model_x                                                             0\n",
       "Primary Use                                                         0\n",
       "Electric Range                                                      0\n",
       "Odometer Reading                                                    0\n",
       "Odometer Reading Description                                        0\n",
       "New or Used Vehicle                                                 0\n",
       "Sale Price                                                          0\n",
       "Base MSRP                                                           0\n",
       "2019 HB 2042: Battery Range Requirement                             0\n",
       "Transaction Type                                                    0\n",
       "Transaction Date                                                    0\n",
       "Year                                                                0\n",
       "County                                                              0\n",
       "State                                                               0\n",
       "Postal Code                                                         0\n",
       "2019 HB 2042: Clean Alternative Fuel Vehicle (CAFV) Eligibility     0\n",
       "Meets 2019 HB 2042 Electric Range Requirement                       0\n",
       "Meets 2019 HB 2042 Sale Date Requirement                            0\n",
       "Meets 2019 HB 2042 Sale Price/Value Requirement                     0\n",
       "Estimated_US_Value                                                  0\n",
       "dtype: int64"
      ]
     },
     "execution_count": 8,
     "metadata": {},
     "output_type": "execute_result"
    }
   ],
   "execution_count": 8
  },
  {
   "cell_type": "markdown",
   "id": "d432f4cc",
   "metadata": {},
   "source": [
    "It seems only Legislative District and City have null values, and they will not affect machine learning process, so we decided not to deal with these null values"
   ]
  },
  {
   "cell_type": "markdown",
   "id": "2da762b5",
   "metadata": {},
   "source": [
    "#### Remove outliers"
   ]
  },
  {
   "cell_type": "code",
   "id": "0cab4127",
   "metadata": {
    "ExecuteTime": {
     "end_time": "2025-04-16T02:59:20.353150Z",
     "start_time": "2025-04-16T02:59:20.318422Z"
    }
   },
   "source": [
    "def remove_outliers_percentile(df, column, lower_percentile=0.01, upper_percentile=0.99):\n",
    "    lower = df[column].quantile(lower_percentile)\n",
    "    upper = df[column].quantile(upper_percentile)\n",
    "    print(f\"{column} range kept: {lower:.2f} ~ {upper:.2f}\")\n",
    "    print(f\"Number of outliers removed: {(df[column] < lower).sum() + (df[column] > upper).sum()}\")\n",
    "    return df[(df[column] >= lower) & (df[column] <= upper)]\n",
    "\n",
    "# Re-load original merged dataset here if needed (to undo previous drop)\n",
    "# Apply new outlier filter\n",
    "car_df = remove_outliers_percentile(car_df, 'Estimated_US_Value')\n",
    "car_df = remove_outliers_percentile(car_df, 'Odometer Reading')\n",
    "print(f\"Final shape after outlier removal: {car_df.shape}\")\n"
   ],
   "outputs": [
    {
     "name": "stdout",
     "output_type": "stream",
     "text": [
      "Estimated_US_Value range kept: 27927.00 ~ 130830.00\n",
      "Number of outliers removed: 162\n",
      "Odometer Reading range kept: 5.00 ~ 1063.93\n",
      "Number of outliers removed: 365\n",
      "Final shape after outlier removal: (22405, 52)\n"
     ]
    }
   ],
   "execution_count": 9
  },
  {
   "cell_type": "markdown",
   "id": "965faf0a",
   "metadata": {},
   "source": [
    "Outliers were originally removed using the IQR method. However, this eliminated over 50% of the dataset, and this is probably because of the narrow range of values. Because the IQR method filtered too many data, and it may lose valuable variation, we decided to apply a more conservative approach using the 1st and 99th percentiles.\n",
    "\n",
    "This strategy retains the majority of the data while still removing extreme anomalies that might distort distance-based clustering results."
   ]
  },
  {
   "cell_type": "markdown",
   "id": "aec5c6cf",
   "metadata": {},
   "source": [
    "#### Feature Scaling"
   ]
  },
  {
   "cell_type": "code",
   "id": "9a9bb659",
   "metadata": {
    "ExecuteTime": {
     "end_time": "2025-04-16T02:59:20.810493Z",
     "start_time": "2025-04-16T02:59:20.566578Z"
    }
   },
   "source": [
    "from sklearn.preprocessing import StandardScaler\n",
    "\n",
    "# Select only numeric features for clustering\n",
    "# Change to negative because '0-100' is better when they are smaller, while the bigger the other features, the better\n",
    "# Change to negative make it also the bigger the better\n",
    "car_df['0-100'] = -car_df['0-100']\n",
    "numeric_features = ['Efficiency', 'Fastcharge', 'Sale Price', 'Battery', 'km_of_range', '0-100', 'Top_Speed']\n",
    "X = car_df[numeric_features]\n",
    "\n",
    "# Standardize the numeric features\n",
    "scaler = StandardScaler()\n",
    "X_scaled = scaler.fit_transform(X)"
   ],
   "outputs": [],
   "execution_count": 10
  },
  {
   "cell_type": "markdown",
   "id": "2667d0a1",
   "metadata": {},
   "source": [
    "'Estimated_US_Value', 'Odometer Reading', 'Efficiency', and 'Fastcharge', 'Sale Price', 'Battery', 'km_of_range', '0-100', 'Top_Speed' were selected for clustering because they represent vehicle pricing and other important aspects, which are core aspects for EV models.\n",
    "We standardized these columns in this step."
   ]
  },
  {
   "cell_type": "markdown",
   "id": "df8d3fa7",
   "metadata": {},
   "source": [
    "#### PCA"
   ]
  },
  {
   "cell_type": "code",
   "id": "89109afc",
   "metadata": {
    "ExecuteTime": {
     "end_time": "2025-04-16T02:59:21.400573Z",
     "start_time": "2025-04-16T02:59:20.874244Z"
    }
   },
   "source": [
    "from sklearn.decomposition import PCA\n",
    "import matplotlib.pyplot as plt\n",
    "\n",
    "pca_full = PCA()\n",
    "pca_full.fit(X_scaled)\n",
    "explained_variance = pca_full.explained_variance_ratio_"
   ],
   "outputs": [],
   "execution_count": 11
  },
  {
   "cell_type": "code",
   "id": "9d99c5f4",
   "metadata": {
    "ExecuteTime": {
     "end_time": "2025-04-16T02:59:21.678517Z",
     "start_time": "2025-04-16T02:59:21.448879Z"
    }
   },
   "source": [
    "import numpy as np\n",
    "\n",
    "cumulative_variance = np.cumsum(explained_variance)\n",
    "\n",
    "plt.figure(figsize=(8, 5))\n",
    "plt.plot(range(1, len(cumulative_variance)+1), cumulative_variance, marker='o')\n",
    "plt.axhline(y=0.90, color='r', linestyle='--', label='90% Variance')\n",
    "plt.xlabel('Number of Principal Components')\n",
    "plt.ylabel('Cumulative Explained Variance')\n",
    "plt.title('Cumulative Explained Variance by PCA Components')\n",
    "plt.grid(True)\n",
    "plt.legend()\n",
    "plt.show()"
   ],
   "outputs": [
    {
     "data": {
      "text/plain": [
       "<Figure size 800x500 with 1 Axes>"
      ],
      "image/png": "[encoded data removed]"
     },
     "metadata": {},
     "output_type": "display_data"
    }
   ],
   "execution_count": 12
  },
  {
   "cell_type": "code",
   "id": "f5d54aa4",
   "metadata": {
    "ExecuteTime": {
     "end_time": "2025-04-16T02:59:21.714965Z",
     "start_time": "2025-04-16T02:59:21.694777Z"
    }
   },
   "source": [
    "# PCA with 5 components\n",
    "pca_final = PCA(n_components=5)\n",
    "X_pca = pca_final.fit_transform(X_scaled)\n",
    "\n",
    "\n",
    "print(\"Explained variance ratios:\", pca_final.explained_variance_ratio_)\n",
    "print(\"Cumulative variance:\", sum(pca_final.explained_variance_ratio_))"
   ],
   "outputs": [
    {
     "name": "stdout",
     "output_type": "stream",
     "text": [
      "Explained variance ratios: [0.37534291 0.29869549 0.1314686  0.09301166 0.06773238]\n",
      "Cumulative variance: 0.9662510381418306\n"
     ]
    }
   ],
   "execution_count": 13
  },
  {
   "cell_type": "markdown",
   "id": "57ad5144",
   "metadata": {},
   "source": [
    "## Clustering"
   ]
  },
  {
   "cell_type": "code",
   "id": "57cfb7f0",
   "metadata": {
    "ExecuteTime": {
     "end_time": "2025-04-16T03:00:13.451219Z",
     "start_time": "2025-04-16T02:59:21.951700Z"
    }
   },
   "source": [
    "from sklearn.cluster import KMeans\n",
    "from sklearn.metrics import silhouette_score\n",
    "\n",
    "# Try different k values\n",
    "k_range = range(2, 10)\n",
    "inertia = []\n",
    "silhouette_scores = []\n",
    "\n",
    "for k in k_range:\n",
    "    kmeans = KMeans(n_clusters=k, random_state=42)\n",
    "    kmeans.fit(X_pca)\n",
    "    inertia.append(kmeans.inertia_)\n",
    "    labels = kmeans.labels_\n",
    "    silhouette_scores.append(silhouette_score(X_pca, labels))\n",
    "\n",
    "# Plot elbow curve\n",
    "plt.figure(figsize=(6, 4))\n",
    "plt.plot(k_range, inertia, marker='o')\n",
    "plt.title('K-Means - Elbow Method')\n",
    "plt.xlabel('Number of clusters (k)')\n",
    "plt.ylabel('Inertia')\n",
    "plt.grid(True)\n",
    "plt.show()\n",
    "\n",
    "# Plot silhouette scores\n",
    "plt.figure(figsize=(6, 4))\n",
    "plt.plot(k_range, silhouette_scores, marker='o', color='orange')\n",
    "plt.title('K-Means - Silhouette Scores')\n",
    "plt.xlabel('Number of clusters (k)')\n",
    "plt.ylabel('Silhouette Score')\n",
    "plt.grid(True)\n",
    "plt.show()"
   ],
   "outputs": [
    {
     "data": {
      "text/plain": [
       "<Figure size 600x400 with 1 Axes>"
      ],
      "image/png": "[encoded data removed]"
     },
     "metadata": {},
     "output_type": "display_data"
    },
    {
     "data": {
      "text/plain": [
       "<Figure size 600x400 with 1 Axes>"
      ],
      "image/png": "[encoded data removed]"
     },
     "metadata": {},
     "output_type": "display_data"
    }
   ],
   "execution_count": 14
  },
  {
   "cell_type": "code",
   "id": "a56b4554",
   "metadata": {
    "ExecuteTime": {
     "end_time": "2025-04-16T03:00:14.305356Z",
     "start_time": "2025-04-16T03:00:13.754714Z"
    }
   },
   "source": [
    "# Final KMeans with 5\n",
    "k_final = 6\n",
    "kmeans = KMeans(n_clusters=k_final, random_state=42)\n",
    "cluster_labels = kmeans.fit_predict(X_pca)\n",
    "\n",
    "# Visualize clusters\n",
    "plt.figure(figsize=(8, 6))\n",
    "plt.scatter(X_pca[:, 0], X_pca[:, 1], c=cluster_labels, cmap='viridis', alpha=0.6)\n",
    "plt.scatter(kmeans.cluster_centers_[:, 0], kmeans.cluster_centers_[:, 1], color='red', marker='x', s=100, label='Centroids')\n",
    "plt.title('K-Means Clustering')\n",
    "plt.xlabel('PC1')\n",
    "plt.ylabel('PC2')\n",
    "plt.legend()\n",
    "plt.grid(True)\n",
    "plt.show()"
   ],
   "outputs": [
    {
     "data": {
      "text/plain": [
       "<Figure size 800x600 with 1 Axes>"
      ],
      "image/png": "[encoded data removed]"
     },
     "metadata": {},
     "output_type": "display_data"
    }
   ],
   "execution_count": 15
  },
  {
   "cell_type": "code",
   "id": "3c6e7da3",
   "metadata": {
    "ExecuteTime": {
     "end_time": "2025-04-16T03:00:26.131891Z",
     "start_time": "2025-04-16T03:00:14.349398Z"
    }
   },
   "source": [
    "from sklearn.cluster import AgglomerativeClustering\n",
    "\n",
    "# Agglomerative clustering with k=5\n",
    "agg = AgglomerativeClustering(n_clusters=5)\n",
    "agg_labels = agg.fit_predict(X_pca)\n",
    "\n",
    "# Plot results\n",
    "plt.figure(figsize=(8, 6))\n",
    "plt.scatter(X_pca[:, 0], X_pca[:, 1], c=agg_labels, cmap='Set2', alpha=0.6)\n",
    "plt.title('Agglomerative Clustering')\n",
    "plt.xlabel('PC1')\n",
    "plt.ylabel('PC2')\n",
    "plt.grid(True)\n",
    "plt.show()"
   ],
   "outputs": [
    {
     "data": {
      "text/plain": [
       "<Figure size 800x600 with 1 Axes>"
      ],
      "image/png": "[encoded data removed]"
     },
     "metadata": {},
     "output_type": "display_data"
    }
   ],
   "execution_count": 16
  },
  {
   "cell_type": "code",
   "id": "3decbbd1",
   "metadata": {
    "ExecuteTime": {
     "end_time": "2025-04-16T03:00:26.212909Z",
     "start_time": "2025-04-16T03:00:26.184509Z"
    }
   },
   "source": [
    "# Change '0-100' back.\n",
    "car_df['0-100'] = -car_df['0-100']\n",
    "car_df['cluster_label'] = cluster_labels\n",
    "\n",
    "cluster_summary = car_df.groupby('cluster_label')[numeric_features].mean()\n",
    "pd.set_option('display.max_columns', None)\n",
    "display(cluster_summary)"
   ],
   "outputs": [
    {
     "data": {
      "text/plain": [
       "               Efficiency   Fastcharge    Sale Price    Battery  km_of_range  \\\n",
       "cluster_label                                                                  \n",
       "0              186.224503  1043.040733  53403.507105  74.000000   146.474266   \n",
       "1              168.995238   684.450777  51094.447264  75.000000   127.510344   \n",
       "2              191.803080   710.462046  88524.661166  93.541034   211.525853   \n",
       "3              200.918787   434.535225  56851.880137  88.967221   140.533757   \n",
       "4              220.538272   830.757202  71160.338272  95.995885   169.372840   \n",
       "5              183.192393   398.191066  42033.050862  62.701460   141.839452   \n",
       "\n",
       "                  0-100   Top_Speed  \n",
       "cluster_label                        \n",
       "0              5.415946  185.151563  \n",
       "1              4.805512  219.943868  \n",
       "2              3.660726  251.903190  \n",
       "3              6.350245  183.282779  \n",
       "4              6.190123  199.144033  \n",
       "5              7.334940  162.571429  "
      ],
      "text/html": [
       "<div>\n",
       "<style scoped>\n",
       "    .dataframe tbody tr th:only-of-type {\n",
       "        vertical-align: middle;\n",
       "    }\n",
       "\n",
       "    .dataframe tbody tr th {\n",
       "        vertical-align: top;\n",
       "    }\n",
       "\n",
       "    .dataframe thead th {\n",
       "        text-align: right;\n",
       "    }\n",
       "</style>\n",
       "<table border=\"1\" class=\"dataframe\">\n",
       "  <thead>\n",
       "    <tr style=\"text-align: right;\">\n",
       "      <th></th>\n",
       "      <th>Efficiency</th>\n",
       "      <th>Fastcharge</th>\n",
       "      <th>Sale Price</th>\n",
       "      <th>Battery</th>\n",
       "      <th>km_of_range</th>\n",
       "      <th>0-100</th>\n",
       "      <th>Top_Speed</th>\n",
       "    </tr>\n",
       "    <tr>\n",
       "      <th>cluster_label</th>\n",
       "      <th></th>\n",
       "      <th></th>\n",
       "      <th></th>\n",
       "      <th></th>\n",
       "      <th></th>\n",
       "      <th></th>\n",
       "      <th></th>\n",
       "    </tr>\n",
       "  </thead>\n",
       "  <tbody>\n",
       "    <tr>\n",
       "      <th>0</th>\n",
       "      <td>186.224503</td>\n",
       "      <td>1043.040733</td>\n",
       "      <td>53403.507105</td>\n",
       "      <td>74.000000</td>\n",
       "      <td>146.474266</td>\n",
       "      <td>5.415946</td>\n",
       "      <td>185.151563</td>\n",
       "    </tr>\n",
       "    <tr>\n",
       "      <th>1</th>\n",
       "      <td>168.995238</td>\n",
       "      <td>684.450777</td>\n",
       "      <td>51094.447264</td>\n",
       "      <td>75.000000</td>\n",
       "      <td>127.510344</td>\n",
       "      <td>4.805512</td>\n",
       "      <td>219.943868</td>\n",
       "    </tr>\n",
       "    <tr>\n",
       "      <th>2</th>\n",
       "      <td>191.803080</td>\n",
       "      <td>710.462046</td>\n",
       "      <td>88524.661166</td>\n",
       "      <td>93.541034</td>\n",
       "      <td>211.525853</td>\n",
       "      <td>3.660726</td>\n",
       "      <td>251.903190</td>\n",
       "    </tr>\n",
       "    <tr>\n",
       "      <th>3</th>\n",
       "      <td>200.918787</td>\n",
       "      <td>434.535225</td>\n",
       "      <td>56851.880137</td>\n",
       "      <td>88.967221</td>\n",
       "      <td>140.533757</td>\n",
       "      <td>6.350245</td>\n",
       "      <td>183.282779</td>\n",
       "    </tr>\n",
       "    <tr>\n",
       "      <th>4</th>\n",
       "      <td>220.538272</td>\n",
       "      <td>830.757202</td>\n",
       "      <td>71160.338272</td>\n",
       "      <td>95.995885</td>\n",
       "      <td>169.372840</td>\n",
       "      <td>6.190123</td>\n",
       "      <td>199.144033</td>\n",
       "    </tr>\n",
       "    <tr>\n",
       "      <th>5</th>\n",
       "      <td>183.192393</td>\n",
       "      <td>398.191066</td>\n",
       "      <td>42033.050862</td>\n",
       "      <td>62.701460</td>\n",
       "      <td>141.839452</td>\n",
       "      <td>7.334940</td>\n",
       "      <td>162.571429</td>\n",
       "    </tr>\n",
       "  </tbody>\n",
       "</table>\n",
       "</div>"
      ]
     },
     "metadata": {},
     "output_type": "display_data"
    }
   ],
   "execution_count": 17
  },
  {
   "metadata": {
    "ExecuteTime": {
     "end_time": "2025-04-16T03:00:26.229284Z",
     "start_time": "2025-04-16T03:00:26.224092Z"
    }
   },
   "cell_type": "code",
   "source": [
    "car_df[\"PC1\"] = X_pca[:, 0]\n",
    "car_df[\"PC2\"] = X_pca[:, 1]"
   ],
   "id": "a3774b81b4467af5",
   "outputs": [],
   "execution_count": 18
  },
  {
   "metadata": {
    "ExecuteTime": {
     "end_time": "2025-04-16T03:00:26.281439Z",
     "start_time": "2025-04-16T03:00:26.277738Z"
    }
   },
   "cell_type": "code",
   "source": "# %pip install altair",
   "id": "e4f15c43ce4ebb89",
   "outputs": [],
   "execution_count": 19
  },
  {
   "metadata": {
    "ExecuteTime": {
     "end_time": "2025-04-16T03:00:28.163292Z",
     "start_time": "2025-04-16T03:00:26.378341Z"
    }
   },
   "cell_type": "code",
   "source": [
    "import altair as alt\n",
    "\n",
    "cluster_select = alt.selection_point(\n",
    "    name=\"SelectCluster\",\n",
    "    fields=[\"cluster_label\"],\n",
    "    bind=alt.binding_radio(options=sorted(car_df['cluster_label'].unique().tolist()), name=\"Cluster: \"),\n",
    "    value=0\n",
    ")\n",
    "\n",
    "base = alt.Chart(car_df)\n",
    "\n",
    "color_condition = alt.condition(\n",
    "    f\"datum.cluster_label == {cluster_select.name}.cluster_label\",\n",
    "    alt.Color(\"Brand:N\", legend=alt.Legend(title=\"Brand\")),\n",
    "    alt.value(\"lightgrey\")\n",
    ")\n",
    "\n",
    "scatter = base.mark_circle(\n",
    "    size=60,\n",
    "    filled=True\n",
    ").encode(\n",
    "    x=alt.X(\"PC1:Q\"),\n",
    "    y=alt.Y(\"PC2:Q\"),\n",
    ").encode(\n",
    "    color=color_condition,\n",
    "    tooltip=[\"cluster_label\", \"Brand\"] + numeric_features,\n",
    ").add_params(\n",
    "    cluster_select\n",
    ").properties(\n",
    "    width=500,\n",
    "    height=400\n",
    ")\n",
    "\n",
    "numeric_tooltips = [\n",
    "    alt.Tooltip(f\"{col}:Q\", aggregate=\"average\", title=f\"Avg {col}\")\n",
    "    for col in numeric_features\n",
    "]\n",
    "\n",
    "bar = base.transform_filter(\n",
    "    cluster_select\n",
    ").mark_bar().encode(\n",
    "    x=alt.X(\"Brand:N\", title=\"Brand\"),\n",
    "    y=alt.Y(\"count():Q\", title=\"Count\"),\n",
    "    tooltip=[alt.Tooltip(\"Brand:N\"), alt.Tooltip(\"count():Q\")] + numeric_tooltips,\n",
    "    color=alt.Color(\"Brand:N\", legend=None)\n",
    ").properties(\n",
    "    width=500,\n",
    "    height=200\n",
    ")\n",
    "\n",
    "chart = alt.vconcat(scatter, bar).resolve_scale(color=\"shared\")\n",
    "\n",
    "chart.save(\"chart.html\")"
   ],
   "id": "d67d47cb8a165155",
   "outputs": [],
   "execution_count": 20
  },
  {
   "metadata": {
    "ExecuteTime": {
     "end_time": "2025-04-16T03:00:28.179520Z",
     "start_time": "2025-04-16T03:00:28.176919Z"
    }
   },
   "cell_type": "code",
   "source": [
    "# Altair seems to have problem handle over 5000 rows and display directly in notebook\n",
    "# So first saved to html and render here\n",
    "from IPython.display import IFrame\n",
    "\n",
    "# If this is not working, please refer to the HTML file directly for the interactive visualization\n",
    "IFrame(src='./chart.html', width=1000, height=1000)"
   ],
   "id": "42f3d0fc976f53d7",
   "outputs": [
    {
     "data": {
      "text/plain": [
       "<IPython.lib.display.IFrame at 0x30998c110>"
      ],
      "text/html": [
       "\n",
       "        <iframe\n",
       "            width=\"1000\"\n",
       "            height=\"1000\"\n",
       "            src=\"./chart.html\"\n",
       "            frameborder=\"0\"\n",
       "            allowfullscreen\n",
       "            \n",
       "        ></iframe>\n",
       "        "
      ]
     },
     "execution_count": 21,
     "metadata": {},
     "output_type": "execute_result"
    }
   ],
   "execution_count": 21
  },
  {
   "metadata": {},
   "cell_type": "markdown",
   "source": [
    "Among the five clusters, Cluster 1 is the largest, containing over 12,000 cars—all of which are Teslas. This underscores Tesla’s dominant position in the EV industry. Cluster 4 is also led by Tesla. Kia appears to follow closely behind, leading Cluster 4 and sharing prominence with Hyundai in Cluster 0. Ford and Nissan are dividing the ground for cluster 3. Cluster 5 seems to represent lower-end EVs, as it scores low on both PC1 and PC2. Here, brands other than Tesla are competing intensely, with Toyota emerging as the leader.\n",
    "\n",
    "Overall, the analysis clearly shows that Tesla leads the EV market, while Kia, Hyundai, Ford and Nissan have also carved out their uniquedistinct positions. All brands except Tesla are competing fiercely in what may be a more budget-conscious segment, with Toyota currently at the forefront.\n",
    "\n",
    "Given more time, we believe the analysis could be deepened by examining each principal component in detail to better understand how Tesla and other brands each differentiate themselves. However, due to time constraints, we have decided to conclude our analysis here."
   ],
   "id": "444ecf5225774eda"
  }
 ],
 "metadata": {
  "kernelspec": {
   "display_name": ".venv",
   "language": "python",
   "name": "python3"
  },
  "language_info": {
   "codemirror_mode": {
    "name": "ipython",
    "version": 3
   },
   "file_extension": ".py",
   "mimetype": "text/x-python",
   "name": "python",
   "nbconvert_exporter": "python",
   "pygments_lexer": "ipython3",
   "version": "3.12.10"
  }
 },
 "nbformat": 4,
 "nbformat_minor": 5
}
